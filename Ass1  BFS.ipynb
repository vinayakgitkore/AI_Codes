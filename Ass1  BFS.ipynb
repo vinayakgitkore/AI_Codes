{
 "cells": [
  {
   "cell_type": "code",
   "execution_count": 14,
   "id": "f9c017d5",
   "metadata": {},
   "outputs": [],
   "source": [
    "graph={\n",
    "    'A':['B','C'],\n",
    "    'B':['D','E'],\n",
    "    'C':['F'],\n",
    "    'D':[],\n",
    "    'E':['F'],\n",
    "    'F':[]\n",
    "}"
   ]
  },
  {
   "cell_type": "code",
   "execution_count": 15,
   "id": "58f23681",
   "metadata": {},
   "outputs": [],
   "source": [
    "visited=[]\n",
    "queue=[]"
   ]
  },
  {
   "cell_type": "code",
   "execution_count": 16,
   "id": "f8d25580",
   "metadata": {},
   "outputs": [
    {
     "name": "stdout",
     "output_type": "stream",
     "text": [
      "B D E F "
     ]
    }
   ],
   "source": [
    "def bfs(visited,graph,node):\n",
    "    visited.append(node)\n",
    "    queue.append(node)\n",
    "    while(queue):\n",
    "        s=queue.pop(0)\n",
    "        print(s,end=\" \")\n",
    "        for neighbour in graph[s]:\n",
    "            if neighbour not in visited:\n",
    "                visited.append(neighbour)\n",
    "                queue.append(neighbour)\n",
    "\n",
    "bfs(visited,graph,'B')"
   ]
  },
  {
   "cell_type": "code",
   "execution_count": null,
   "id": "4154cc02",
   "metadata": {},
   "outputs": [],
   "source": []
  }
 ],
 "metadata": {
  "kernelspec": {
   "display_name": "Python 3 (ipykernel)",
   "language": "python",
   "name": "python3"
  },
  "language_info": {
   "codemirror_mode": {
    "name": "ipython",
    "version": 3
   },
   "file_extension": ".py",
   "mimetype": "text/x-python",
   "name": "python",
   "nbconvert_exporter": "python",
   "pygments_lexer": "ipython3",
   "version": "3.10.6"
  }
 },
 "nbformat": 4,
 "nbformat_minor": 5
}
