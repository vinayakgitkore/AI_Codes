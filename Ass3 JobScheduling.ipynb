{
 "cells": [
  {
   "cell_type": "code",
   "execution_count": null,
   "id": "c10692be",
   "metadata": {},
   "outputs": [
    {
     "name": "stdout",
     "output_type": "stream",
     "text": [
      "my name is swapnil\n",
      "my name is swapnil\n",
      "my name is swapnil\n",
      "my name is swapnil\n",
      "my name is swapnil\n",
      "my name is swapnil\n",
      "my name is swapnil\n",
      "my name is swapnil\n",
      "my name is swapnil\n",
      "my name is swapnil\n"
     ]
    }
   ],
   "source": [
    "import schedule\n",
    "import time\n",
    "\n",
    "def show_name():\n",
    "    print(\"my name is swapnil\")\n",
    "    \n",
    "def play():\n",
    "    print(\"i am playing football\")\n",
    "    \n",
    "def sleep():\n",
    "    print(\"i am going to sleep\")\n",
    "    \n",
    "def work():\n",
    "    print(\"i am working\")\n",
    "    \n",
    "def tournament():\n",
    "    print(\"lets play tournament\")\n",
    "    \n",
    "schedule.every(5).seconds.do(show_name)\n",
    "schedule.every(1).minutes.do(play)\n",
    "schedule.every(1).to(2).minutes.do(work)\n",
    "schedule.every().day.at(\"00:00\").do(sleep)\n",
    "schedule.every().monday.at(\"18:50\").do(tournament)\n",
    "\n",
    "\n",
    "while 1:\n",
    "    schedule.run_pending()\n",
    "    time.sleep(1)"
   ]
  },
  {
   "cell_type": "code",
   "execution_count": null,
   "id": "603ed704",
   "metadata": {},
   "outputs": [],
   "source": []
  },
  {
   "cell_type": "code",
   "execution_count": null,
   "id": "b2923350",
   "metadata": {},
   "outputs": [],
   "source": []
  }
 ],
 "metadata": {
  "kernelspec": {
   "display_name": "Python 3 (ipykernel)",
   "language": "python",
   "name": "python3"
  },
  "language_info": {
   "codemirror_mode": {
    "name": "ipython",
    "version": 3
   },
   "file_extension": ".py",
   "mimetype": "text/x-python",
   "name": "python",
   "nbconvert_exporter": "python",
   "pygments_lexer": "ipython3",
   "version": "3.10.6"
  }
 },
 "nbformat": 4,
 "nbformat_minor": 5
}
